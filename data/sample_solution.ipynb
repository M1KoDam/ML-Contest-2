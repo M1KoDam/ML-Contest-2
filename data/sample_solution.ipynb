{
 "cells": [
  {
   "cell_type": "code",
   "execution_count": 1,
   "metadata": {},
   "outputs": [
    {
     "name": "stdout",
     "output_type": "stream",
     "text": [
      "\u001b[33mWARNING: You are using pip version 22.0.4; however, version 24.0 is available.\n",
      "You should consider upgrading via the '/home/alexander/Desktop/ml2024/snd_contest_1/venv/bin/python -m pip install --upgrade pip' command.\u001b[0m\u001b[33m\n",
      "\u001b[0m"
     ]
    }
   ],
   "source": [
    "!pip install -q torch torchvision torchaudio catboost pandas transformers[torch] evaluate"
   ]
  },
  {
   "cell_type": "code",
   "execution_count": 2,
   "metadata": {},
   "outputs": [],
   "source": [
    "import pandas as pd\n",
    "import catboost as cb\n",
    "import pylab as plt\n",
    "from tqdm import tqdm"
   ]
  },
  {
   "cell_type": "code",
   "execution_count": 3,
   "metadata": {},
   "outputs": [
    {
     "data": {
      "text/html": [
       "<div>\n",
       "<style scoped>\n",
       "    .dataframe tbody tr th:only-of-type {\n",
       "        vertical-align: middle;\n",
       "    }\n",
       "\n",
       "    .dataframe tbody tr th {\n",
       "        vertical-align: top;\n",
       "    }\n",
       "\n",
       "    .dataframe thead th {\n",
       "        text-align: right;\n",
       "    }\n",
       "</style>\n",
       "<table border=\"1\" class=\"dataframe\">\n",
       "  <thead>\n",
       "    <tr style=\"text-align: right;\">\n",
       "      <th></th>\n",
       "      <th>text</th>\n",
       "      <th>rating</th>\n",
       "    </tr>\n",
       "  </thead>\n",
       "  <tbody>\n",
       "    <tr>\n",
       "      <th>0</th>\n",
       "      <td>Выбор чисто на 3/5. Магазинов мало, развлечени...</td>\n",
       "      <td>3.0</td>\n",
       "    </tr>\n",
       "    <tr>\n",
       "      <th>1</th>\n",
       "      <td>Сегодня, 25.05.2023 заказывал шаурму в тарелке...</td>\n",
       "      <td>5.0</td>\n",
       "    </tr>\n",
       "    <tr>\n",
       "      <th>2</th>\n",
       "      <td>Ходила сегодня первый раз, записывалась через ...</td>\n",
       "      <td>5.0</td>\n",
       "    </tr>\n",
       "    <tr>\n",
       "      <th>3</th>\n",
       "      <td>Ремонтировали тут айфон ХS, меняли камеру и эк...</td>\n",
       "      <td>5.0</td>\n",
       "    </tr>\n",
       "    <tr>\n",
       "      <th>4</th>\n",
       "      <td>Очень уютный кинотеатр, как любой другой от ко...</td>\n",
       "      <td>5.0</td>\n",
       "    </tr>\n",
       "  </tbody>\n",
       "</table>\n",
       "</div>"
      ],
      "text/plain": [
       "                                                text  rating\n",
       "0  Выбор чисто на 3/5. Магазинов мало, развлечени...     3.0\n",
       "1  Сегодня, 25.05.2023 заказывал шаурму в тарелке...     5.0\n",
       "2  Ходила сегодня первый раз, записывалась через ...     5.0\n",
       "3  Ремонтировали тут айфон ХS, меняли камеру и эк...     5.0\n",
       "4  Очень уютный кинотеатр, как любой другой от ко...     5.0"
      ]
     },
     "execution_count": 3,
     "metadata": {},
     "output_type": "execute_result"
    }
   ],
   "source": [
    "data = pd.read_csv('train.csv')\n",
    "data.head()"
   ]
  },
  {
   "cell_type": "markdown",
   "metadata": {},
   "source": [
    "# Обучим \"в лоб\" катбуст\n",
    "Жизнь слишком коротка, чтобы чистить или даже просматривать данные, просто жахнем обучение, а с качеством - будь что будет. "
   ]
  },
  {
   "cell_type": "code",
   "execution_count": 4,
   "metadata": {},
   "outputs": [
    {
     "data": {
      "application/vnd.jupyter.widget-view+json": {
       "model_id": "16c8b5506f4e486a91df0c51200d9493",
       "version_major": 2,
       "version_minor": 0
      },
      "text/plain": [
       "MetricVisualizer(layout=Layout(align_self='stretch', height='500px'))"
      ]
     },
     "metadata": {},
     "output_type": "display_data"
    },
    {
     "name": "stdout",
     "output_type": "stream",
     "text": [
      "Training on fold [0/5]\n",
      "\n",
      "bestTest = 0.4613197061\n",
      "bestIteration = 149\n",
      "\n",
      "Training on fold [1/5]\n",
      "\n",
      "bestTest = 0.4580813568\n",
      "bestIteration = 149\n",
      "\n",
      "Training on fold [2/5]\n",
      "\n",
      "bestTest = 0.4573849493\n",
      "bestIteration = 149\n",
      "\n",
      "Training on fold [3/5]\n",
      "\n",
      "bestTest = 0.4576870433\n",
      "bestIteration = 149\n",
      "\n",
      "Training on fold [4/5]\n",
      "\n",
      "bestTest = 0.4580195776\n",
      "bestIteration = 149\n",
      "\n"
     ]
    }
   ],
   "source": [
    "params = {\n",
    "    'loss_function': 'MAE',\n",
    "    'iterations': 150,\n",
    "    'random_seed': 42,\n",
    "    'learning_rate': 0.05\n",
    "}\n",
    "\n",
    "pool = cb.Pool(data[['text']], data.rating, text_features=['text'])\n",
    "cv_res = cb.cv(\n",
    "  params=params, \n",
    "  pool=pool, \n",
    "  early_stopping_rounds=30, \n",
    "  fold_count=5, \n",
    "  shuffle=True, \n",
    "  partition_random_seed=0,\n",
    "  plot=True, \n",
    "  stratified=True, \n",
    "  verbose=False,\n",
    "  return_models=True\n",
    ")"
   ]
  },
  {
   "cell_type": "code",
   "execution_count": 5,
   "metadata": {},
   "outputs": [
    {
     "data": {
      "text/plain": [
       "(     iterations  test-MAE-mean  test-MAE-std  train-MAE-mean  train-MAE-std\n",
       " 0             0       4.231884      0.000108        4.231883       0.000107\n",
       " 1             1       3.995066      0.000864        3.995049       0.000841\n",
       " 2             2       3.769738      0.001082        3.769721       0.001066\n",
       " 3             3       3.555979      0.001088        3.555956       0.001069\n",
       " 4             4       3.370099      0.000628        3.370081       0.000622\n",
       " ..          ...            ...           ...             ...            ...\n",
       " 145         145       0.459154      0.001622        0.458168       0.000870\n",
       " 146         146       0.458979      0.001577        0.457986       0.000861\n",
       " 147         147       0.458770      0.001531        0.457768       0.000860\n",
       " 148         148       0.458620      0.001573        0.457614       0.000857\n",
       " 149         149       0.458499      0.001602        0.457487       0.000824\n",
       " \n",
       " [150 rows x 5 columns],\n",
       " [<catboost.core.CatBoost at 0x7b8a2602f2e0>,\n",
       "  <catboost.core.CatBoost at 0x7b8a2602f0d0>,\n",
       "  <catboost.core.CatBoost at 0x7b8a2602f3a0>,\n",
       "  <catboost.core.CatBoost at 0x7b8a201b9bb0>,\n",
       "  <catboost.core.CatBoost at 0x7b8a201b9ca0>])"
      ]
     },
     "execution_count": 5,
     "metadata": {},
     "output_type": "execute_result"
    }
   ],
   "source": [
    "cv_res"
   ]
  },
  {
   "cell_type": "markdown",
   "metadata": {},
   "source": [
    "Ну везде примерно 0.45 средняя абсолютная ошибка. Помним, что жизнь коротка: отдельного валсета мы  от трейна не отщепили и теперь не можем в честном сетапе глянуть глазами как оно предсказывает на новых данных. Не можем чекнуть перфоманс на единицах и пятёрках отдельно. В рамках текущей демнострации предлагается с этим просто смириться. Что ж, сделаем сабмит:"
   ]
  },
  {
   "cell_type": "code",
   "execution_count": 6,
   "metadata": {},
   "outputs": [
    {
     "data": {
      "text/html": [
       "<div>\n",
       "<style scoped>\n",
       "    .dataframe tbody tr th:only-of-type {\n",
       "        vertical-align: middle;\n",
       "    }\n",
       "\n",
       "    .dataframe tbody tr th {\n",
       "        vertical-align: top;\n",
       "    }\n",
       "\n",
       "    .dataframe thead th {\n",
       "        text-align: right;\n",
       "    }\n",
       "</style>\n",
       "<table border=\"1\" class=\"dataframe\">\n",
       "  <thead>\n",
       "    <tr style=\"text-align: right;\">\n",
       "      <th></th>\n",
       "      <th>ID</th>\n",
       "      <th>text</th>\n",
       "    </tr>\n",
       "  </thead>\n",
       "  <tbody>\n",
       "    <tr>\n",
       "      <th>0</th>\n",
       "      <td>240021</td>\n",
       "      <td>Хорошая и качественная выпечка и  шавуха. Одна...</td>\n",
       "    </tr>\n",
       "    <tr>\n",
       "      <th>1</th>\n",
       "      <td>345218</td>\n",
       "      <td>Была у вас в гостях недавно в первый раз, подр...</td>\n",
       "    </tr>\n",
       "    <tr>\n",
       "      <th>2</th>\n",
       "      <td>201829</td>\n",
       "      <td>Любим посещать остров сокровищ. Постоянно здес...</td>\n",
       "    </tr>\n",
       "    <tr>\n",
       "      <th>3</th>\n",
       "      <td>458075</td>\n",
       "      <td>Хочу выразить благодарность автошколе «Позитив...</td>\n",
       "    </tr>\n",
       "    <tr>\n",
       "      <th>4</th>\n",
       "      <td>5940</td>\n",
       "      <td>Всё супер!  Очень вежливые сотрудники, как к р...</td>\n",
       "    </tr>\n",
       "  </tbody>\n",
       "</table>\n",
       "</div>"
      ],
      "text/plain": [
       "       ID                                               text\n",
       "0  240021  Хорошая и качественная выпечка и  шавуха. Одна...\n",
       "1  345218  Была у вас в гостях недавно в первый раз, подр...\n",
       "2  201829  Любим посещать остров сокровищ. Постоянно здес...\n",
       "3  458075  Хочу выразить благодарность автошколе «Позитив...\n",
       "4    5940  Всё супер!  Очень вежливые сотрудники, как к р..."
      ]
     },
     "execution_count": 6,
     "metadata": {},
     "output_type": "execute_result"
    }
   ],
   "source": [
    "df_sub = pd.read_csv('test.csv')\n",
    "df_sub.head()"
   ]
  },
  {
   "cell_type": "code",
   "execution_count": 7,
   "metadata": {},
   "outputs": [],
   "source": [
    "model = cv_res[1][0]\n",
    "preds = model.predict(df_sub[['text']])"
   ]
  },
  {
   "cell_type": "markdown",
   "metadata": {},
   "source": [
    "Глянем на предсказания:"
   ]
  },
  {
   "cell_type": "code",
   "execution_count": 8,
   "metadata": {},
   "outputs": [
    {
     "data": {
      "image/png": "[encoded data removed]",
      "text/plain": [
       "<Figure size 640x480 with 1 Axes>"
      ]
     },
     "metadata": {},
     "output_type": "display_data"
    }
   ],
   "source": [
    "ax = plt.gca()\n",
    "ax.hist(preds)\n",
    "ax.set_yscale('log')"
   ]
  },
  {
   "cell_type": "markdown",
   "metadata": {},
   "source": [
    "Штош, они как минимум разные. Решено, засылаем!"
   ]
  },
  {
   "cell_type": "code",
   "execution_count": 9,
   "metadata": {},
   "outputs": [],
   "source": [
    "df_sub['rating'] = preds\n",
    "df_sub[['ID', 'rating']].to_csv('sub.csv', index=False)"
   ]
  },
  {
   "cell_type": "markdown",
   "metadata": {},
   "source": [
    "# Воспользуемся предобученной трансформерной моделью для перевода предложений в векторы\n",
    "\n",
    "Например [этой](https://huggingface.co/cointegrated/rubert-tiny2). А потом попробуем поверх векторов что-нибудь дообучить под предсказание рейтинга."
   ]
  },
  {
   "cell_type": "code",
   "execution_count": 10,
   "metadata": {},
   "outputs": [],
   "source": [
    "import torch\n",
    "from transformers import AutoTokenizer, AutoModel\n",
    "tokenizer = AutoTokenizer.from_pretrained(\"cointegrated/rubert-tiny2\")\n",
    "text_to_vec_model = AutoModel.from_pretrained(\"cointegrated/rubert-tiny2\")\n",
    "text_to_vec_model.cuda()  # uncomment it if you have a GPU\n",
    "\n",
    "def embed_bert_cls(text, model, tokenizer):\n",
    "    t = tokenizer(text, padding=True, truncation=True, return_tensors='pt',) # разобьём текст на токены из словаря, на котором училась модель\n",
    "    with torch.no_grad():  # градиенты не нужны, мы пока не учимся, а просто прогоняем данные через модель. Сэкономим памяти.\n",
    "        model_output = model(**{k: v.to(model.device) for k, v in t.items()}) # Это мы результат токенизации на ГПУ перегоняем, если надо и в модельку перелаём \n",
    "    embeddings = model_output.last_hidden_state[:, 0, :]\n",
    "    embeddings = torch.nn.functional.normalize(embeddings)  # Нормализуем эмбеддинги, чтобы они были с единичной сферы. \n",
    "    # Теперь не придётся в дальнейшем думать, чувствительны ли наши алгоритмы к норме векторов\n",
    "    return embeddings.cpu().numpy()"
   ]
  },
  {
   "cell_type": "code",
   "execution_count": 11,
   "metadata": {},
   "outputs": [
    {
     "name": "stdout",
     "output_type": "stream",
     "text": [
      "[[ 0.03994568 -0.00592288  0.01523517 -0.04026827 -0.02025329 -0.00433577\n",
      "   0.01105824  0.02046457  0.0070199   0.04463923]] (1, 312)\n"
     ]
    }
   ],
   "source": [
    "maybe_vector = embed_bert_cls(\"это точно работает?\", text_to_vec_model, tokenizer)\n",
    "print(maybe_vector[:, :10], maybe_vector.shape)"
   ]
  },
  {
   "cell_type": "code",
   "execution_count": 12,
   "metadata": {},
   "outputs": [
    {
     "data": {
      "text/plain": [
       "{'input_ids': tensor([[    2,   280, 24302,  2317,   775, 18125,  1046, 59853,    35,     3]]), 'token_type_ids': tensor([[0, 0, 0, 0, 0, 0, 0, 0, 0, 0]]), 'attention_mask': tensor([[1, 1, 1, 1, 1, 1, 1, 1, 1, 1]])}"
      ]
     },
     "execution_count": 12,
     "metadata": {},
     "output_type": "execute_result"
    }
   ],
   "source": [
    "tokenizer(\"А токенайзер что отдаёт?\", padding=True, truncation=True, return_tensors='pt')"
   ]
  },
  {
   "cell_type": "markdown",
   "metadata": {},
   "source": [
    "`input ids` - это номера в словаре для токенов, на которые разбился наш текст. [token_type_ids](https://huggingface.co/transformers/v3.2.0/glossary.html#token-type-ids) нам для задачи \"просто сделай векторы из обычных текстов\" не важны, а `attention_mask` из единичек разрешает модели \"смотреть\" через механизм attention на всё предложение, когда она будет обрабатывать конкретные токены из последовательности, которую мы им скормим.\n",
    "\n",
    "Сделаем векторы из наших текстов."
   ]
  },
  {
   "cell_type": "code",
   "execution_count": 13,
   "metadata": {},
   "outputs": [
    {
     "name": "stderr",
     "output_type": "stream",
     "text": [
      "100%|██████████| 25000/25000 [02:45<00:00, 151.07it/s]\n"
     ]
    }
   ],
   "source": [
    "batch_size = 16  # если используется ГПУ и падает по CUDA out of memory, то размер батча можно уменьшить\n",
    "vectors = []\n",
    "for i in tqdm(range(0,int(len(data)/batch_size))):\n",
    "    data_batch = data['text'][i*batch_size: (i+1)*batch_size].tolist()\n",
    "    embeddings = embed_bert_cls(data_batch, text_to_vec_model, tokenizer)\n",
    "    vectors.extend(embeddings)\n",
    "   "
   ]
  },
  {
   "cell_type": "code",
   "execution_count": 14,
   "metadata": {},
   "outputs": [
    {
     "data": {
      "text/plain": [
       "((312,), 400000, 400000)"
      ]
     },
     "execution_count": 14,
     "metadata": {},
     "output_type": "execute_result"
    }
   ],
   "source": [
    "vectors[0].shape, len(vectors), len(data)"
   ]
  },
  {
   "cell_type": "markdown",
   "metadata": {},
   "source": [
    "Засунем векторы в точно такой же катбуст."
   ]
  },
  {
   "cell_type": "code",
   "execution_count": 15,
   "metadata": {},
   "outputs": [
    {
     "data": {
      "application/vnd.jupyter.widget-view+json": {
       "model_id": "335869cccb764acbbe7c0f9625cce457",
       "version_major": 2,
       "version_minor": 0
      },
      "text/plain": [
       "MetricVisualizer(layout=Layout(align_self='stretch', height='500px'))"
      ]
     },
     "metadata": {},
     "output_type": "display_data"
    },
    {
     "name": "stdout",
     "output_type": "stream",
     "text": [
      "Training on fold [0/5]\n",
      "\n",
      "bestTest = 0.3816491399\n",
      "bestIteration = 149\n",
      "\n",
      "Training on fold [1/5]\n",
      "\n",
      "bestTest = 0.3801046379\n",
      "bestIteration = 149\n",
      "\n",
      "Training on fold [2/5]\n",
      "\n",
      "bestTest = 0.3777807693\n",
      "bestIteration = 149\n",
      "\n",
      "Training on fold [3/5]\n",
      "\n",
      "bestTest = 0.3785934981\n",
      "bestIteration = 149\n",
      "\n",
      "Training on fold [4/5]\n",
      "\n",
      "bestTest = 0.3793707346\n",
      "bestIteration = 149\n",
      "\n"
     ]
    }
   ],
   "source": [
    "params = {\n",
    "    'loss_function': 'MAE',\n",
    "    'iterations': 150,\n",
    "    'random_seed': 42,\n",
    "    'learning_rate': 0.05\n",
    "}\n",
    "\n",
    "pool = cb.Pool(vectors, data.rating)\n",
    "cv_res = cb.cv(\n",
    "  params=params, \n",
    "  pool=pool, \n",
    "  early_stopping_rounds=30, \n",
    "  fold_count=5, \n",
    "  shuffle=True, \n",
    "  partition_random_seed=0,\n",
    "  plot=True, \n",
    "  stratified=True, \n",
    "  verbose=False,\n",
    "  return_models=True\n",
    ")"
   ]
  },
  {
   "cell_type": "markdown",
   "metadata": {},
   "source": [
    "Стало 0.38! Сделаем сабмишен, не забыв векторизовать данные."
   ]
  },
  {
   "cell_type": "code",
   "execution_count": 16,
   "metadata": {},
   "outputs": [
    {
     "name": "stderr",
     "output_type": "stream",
     "text": [
      "100%|██████████| 6250/6250 [00:40<00:00, 152.74it/s]\n"
     ]
    }
   ],
   "source": [
    "model = cv_res[1][0]\n",
    "\n",
    "batch_size = 16  # если используется ГПУ и падает по CUDA out of memory, то размер батча можно уменьшить\n",
    "vectors_sub = []\n",
    "for i in tqdm(range(0,int(len(df_sub)/batch_size))):\n",
    "    data_batch = df_sub['text'][i*batch_size: (i+1)*batch_size].tolist()\n",
    "    embeddings = embed_bert_cls(data_batch, text_to_vec_model, tokenizer)\n",
    "    vectors_sub.extend(embeddings)\n",
    "   \n",
    "preds = model.predict(vectors_sub)\n",
    "df_sub['rating'] = preds\n",
    "df_sub[['ID', 'rating']].to_csv('sub_bert_catboost.csv', index=False)"
   ]
  },
  {
   "cell_type": "markdown",
   "metadata": {},
   "source": [
    "# Deep learning"
   ]
  },
  {
   "cell_type": "markdown",
   "metadata": {},
   "source": [
    "Наконец, попробуем дообучить нашу модель под именно наши данные и нашу задачу и посмотреть, окажет ли это эффект. Будем заставлять модельку напрямую прогнозировать наш рейтинг, не наворачивая поверх катбуст. \n",
    "\n",
    "Кросс-валидация тут будет дорогой: трансформерные модельки учатся существенно дольше, чем катбуст, так что отщепим кусочек данных для тестирования нашего перфоманса\n",
    "\n",
    "\n",
    "Ниже не будет готового решения, лишь несколько импортов, чтобы указать куда копать. Результат, который можно выбить на этом пути разумными усилиями можно увидеть в лидерборде от участника Alexander :)"
   ]
  },
  {
   "cell_type": "code",
   "execution_count": 45,
   "metadata": {},
   "outputs": [],
   "source": [
    "from transformers import BertForSequenceClassification, Trainer, TrainingArguments\n",
    "from sklearn.model_selection import train_test_split\n",
    "train, test = train_test_split(data, test_size=.15, stratify=data['rating'])"
   ]
  },
  {
   "cell_type": "markdown",
   "metadata": {},
   "source": [
    "Для того, чтобы стандартный инструмент для трейна моделей из библиотеки transformers работал, и нам не надо было руками писать трейнлуп и логирование, завернём наши данные в класс Dataset, а его в Dataloader. Их два, т.к. датасет описывает как из сырцов получать данные для модели, а даталоадер - это про эффективную итерацию, prefetch и тому подобное "
   ]
  },
  {
   "cell_type": "code",
   "execution_count": 19,
   "metadata": {},
   "outputs": [],
   "source": [
    "from torch.utils.data import Dataset, DataLoader\n",
    "\n",
    "class CustomDataset(Dataset):\n",
    "    def __init__(self, reviews, labels, tokenizer, max_length):\n",
    "        self.reviews = reviews\n",
    "        self.labels = labels\n",
    "        self.max_length = max_length\n",
    "        self.tokenizer = tokenizer\n",
    "    \n",
    "    def __len__(self):\n",
    "        return len(self.reviews)\n",
    "    \n",
    "    def __getitem__(self, idx):\n",
    "        review = str(self.reviews[idx])\n",
    "        label = self.labels[idx]\n",
    "\n",
    "        tokens = tokenizer(review, padding='max_length', truncation=True, return_tensors='pt',max_length=self.max_length)\n",
    "\n",
    "        return {\n",
    "            'input_ids': tokens['input_ids'].flatten(),\n",
    "            'attention_mask': tokens['attention_mask'].flatten(),\n",
    "            'labels': torch.tensor(label, dtype=torch.long)\n",
    "        }"
   ]
  },
  {
   "cell_type": "code",
   "execution_count": 20,
   "metadata": {},
   "outputs": [],
   "source": [
    "train_dataset = CustomDataset(train['text'].values, train['rating'].values, tokenizer, 256)\n",
    "test_dataset = CustomDataset(test['text'].values, test['rating'].values, tokenizer, 256)\n",
    "\n",
    "train_dataloader = DataLoader(train_dataset, batch_size=512, shuffle=True) # если используется ГПУ и падает по CUDA out of memory, то размер батча можно уменьшить\n",
    "test_dataloader = DataLoader(test_dataset, batch_size=512, shuffle=False) # если используется ГПУ и падает по CUDA out of memory, то размер батча можно уменьшить"
   ]
  }
 ],
 "metadata": {
  "kernelspec": {
   "display_name": "venv",
   "language": "python",
   "name": "python3"
  },
  "language_info": {
   "codemirror_mode": {
    "name": "ipython",
    "version": 3
   },
   "file_extension": ".py",
   "mimetype": "text/x-python",
   "name": "python",
   "nbconvert_exporter": "python",
   "pygments_lexer": "ipython3",
   "version": "3.9.12"
  }
 },
 "nbformat": 4,
 "nbformat_minor": 2
}
